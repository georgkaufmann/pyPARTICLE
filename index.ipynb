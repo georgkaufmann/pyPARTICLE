{
 "cells": [
  {
   "cell_type": "markdown",
   "id": "383108c6",
   "metadata": {},
   "source": [
    "<table>\n",
    "<tr><td><img style=\"height: 150px;\" src=\"images/geo_hydro1.jpg\"></td>\n",
    "<td bgcolor=\"#FFFFFF\">\n",
    "    <p style=\"font-size: xx-large; font-weight: 900; line-height: 100%\">pyPARTICLE</p>\n",
    "    <p style=\"font-size: large; color: rgba(0,0,0,0.5);\"><b style=color:red;>PARTICLE</b></p>\n",
    "    <p style=\"font-size: large; color: rgba(0,0,0,0.5);\">Georg Kaufmann</p>\n",
    "    </td>\n",
    "<td><img style=\"height: 150px;\" src=\"images/pyPARTICLE.png\"></td>\n",
    "</tr>\n",
    "</table>\n",
    "\n",
    "----\n",
    "# `pyPARTICLE`\n",
    "\n",
    "pyPARTICLE, a program package for particle flow and transport."
   ]
  },
  {
   "cell_type": "markdown",
   "id": "fea533e9",
   "metadata": {},
   "source": [
    "----\n",
    "## Contents\n",
    "\n",
    "- Single-material models\n",
    "    - [Introduction]\n",
    "    - [Setup](pyPARTICLE_setup.ipynb)\n",
    "    - [Material](pyPARTICLE_material.ipynb)\n",
    "    - [Diffusion](pyPARTICLE_diffusion.ipynb)\n",
    "    - [Advection](pyPARTICLE_advection.ipynb)\n",
    "    \n",
    "- Shear and Stokes flow\n",
    "    - [Horizontal shear flow](pyPARTICLE_Shearflow.ipynb)\n",
    "    - [Vertical Stokes flow](pyPARTICLE_Stokesflow.ipynb)\n",
    "    \n",
    "- Multi-material models\n",
    "    - [Material-driven transport](pyPARTICLE_MaterialDrivenTransport.ipynb)\n",
    "    - [Density-driven transport](pyPARTICLE_DensityDrivenTransport.ipynb)\n",
    "\n",
    "- Other\n",
    "    - [Library](libPARTICLE.ipynb)"
   ]
  },
  {
   "cell_type": "markdown",
   "id": "b9ee8777",
   "metadata": {},
   "source": [
    "----"
   ]
  }
 ],
 "metadata": {
  "kernelspec": {
   "display_name": "Python 3 (ipykernel)",
   "language": "python",
   "name": "python3"
  },
  "language_info": {
   "codemirror_mode": {
    "name": "ipython",
    "version": 3
   },
   "file_extension": ".py",
   "mimetype": "text/x-python",
   "name": "python",
   "nbconvert_exporter": "python",
   "pygments_lexer": "ipython3",
   "version": "3.11.3"
  }
 },
 "nbformat": 4,
 "nbformat_minor": 5
}
