{
 "cells": [
  {
   "cell_type": "markdown",
   "id": "14c483dd-80a9-4c3a-b2a0-8d2a39d39417",
   "metadata": {},
   "source": [
    "<table>\n",
    "<tr><td><img style=\"height: 150px;\" src=\"images/geo_hydro1.jpg\"></td>\n",
    "<td bgcolor=\"#FFFFFF\">\n",
    "    <p style=\"font-size: xx-large; font-weight: 900; line-height: 100%\">pyPARTICLE</p>\n",
    "    <p style=\"font-size: large; color: rgba(0,0,0,0.5);\"><b style=color:red;>PARTICLE</b></p>\n",
    "    <p style=\"font-size: large; color: rgba(0,0,0,0.5);\">Georg Kaufmann</p>\n",
    "    </td>\n",
    "<td><img style=\"height: 150px;\" src=\"images/pyPARTICLE.png\"></td>\n",
    "</tr>\n",
    "</table>\n",
    "\n",
    "----\n",
    "# `pyPARTICLE`\n",
    "\n",
    "pyPARTICLE, a program package for particle flow and transport."
   ]
  },
  {
   "cell_type": "code",
   "execution_count": 2,
   "id": "9fd7ac7e-9c2b-40dc-bc90-f11043498e03",
   "metadata": {
    "tags": []
   },
   "outputs": [],
   "source": [
    "import libPARTICLE"
   ]
  },
  {
   "cell_type": "code",
   "execution_count": 3,
   "id": "493b63fb-095c-497c-a00e-9fdae9d44b75",
   "metadata": {
    "tags": []
   },
   "outputs": [
    {
     "name": "stdout",
     "output_type": "stream",
     "text": [
      "Help on module libPARTICLE:\n",
      "\n",
      "NAME\n",
      "    libPARTICLE\n",
      "\n",
      "DESCRIPTION\n",
      "    pyPARTICLE\n",
      "    library for particle transport model\n",
      "    2024-04-21\n",
      "    Georg Kaufmann\n",
      "\n",
      "FUNCTIONS\n",
      "    particleInit(Nfloat=50, Nsettled=10, **kwargs)\n",
      "        Particle motion\n",
      "        input:\n",
      "          Nfloat,Nsettled    - number of floating/settled particles\n",
      "        **kwargs:\n",
      "          sidex,sidey        - x- and y-dimension of box\n",
      "          seedx,seedy        - center of floating particle cloud\n",
      "          sigmax,sigmay      - standard deviation for random location\n",
      "        output:\n",
      "          pX,pY              - x- and y-coordinates of particles\n",
      "          pState             - state of particles (0-settled,>0-floating)\n",
      "          pMaterial          - material of particle\n",
      "    \n",
      "    particleMaterials(show=False)\n",
      "        Particle motion\n",
      "        Define material properties\n",
      "        input:\n",
      "          (none)\n",
      "        output:\n",
      "          materials - json dictionary for materials\n",
      "    \n",
      "    particlePlot(pX, pY, pState, pMaterial, time=0, isaved=0, show=False, **kwargs)\n",
      "        Particle motion\n",
      "        input:\n",
      "          pX,pY              - x- and y-coordinates of particles\n",
      "          pState             - state of particles (0-settled,>0-floating)\n",
      "          pMaterial          - material of particle\n",
      "        **kwargs:\n",
      "          sidex,sidey        - x- and y-dimension of box\n",
      "          path               - path for figure and data files\n",
      "          name               - name of model\n",
      "        output:\n",
      "          (to figure)\n",
      "    \n",
      "    particleRun(pX, pY, pState, pMaterial, materials, tmax=10, dt=1, TC=10, **kwargs)\n",
      "        Particle motion\n",
      "    \n",
      "    particleVelocityShear(z, h, dpdx=0.0, v0=0, TC=10)\n",
      "        Particle motion: \n",
      "        Couette and/or Poiseuille shear-flow profile\n",
      "        input:\n",
      "          z        - vertical coordninate\n",
      "          h        - fluid layer thickness\n",
      "          dpdx     - pressure gradient\n",
      "          v0       - horizontal velocity along surface \n",
      "        output:\n",
      "          vShear   - horizontal shear velocity profile\n",
      "    \n",
      "    particleVelocityStokes(r, rhoParticle=1650, TC=10)\n",
      "        Particle motion: \n",
      "        Stokes drag velocity\n",
      "    \n",
      "    water_density(TC=20)\n",
      "        #================================#\n",
      "    \n",
      "    water_viscosity(TC=20.0)\n",
      "        #================================#\n",
      "\n",
      "FILE\n",
      "    /Users/kaufmann/Documents/UNI/RESEARCH/PROGRAMS/py/pyPARTICLE/libPARTICLE.py\n",
      "\n",
      "\n"
     ]
    }
   ],
   "source": [
    "help(libPARTICLE)"
   ]
  },
  {
   "cell_type": "markdown",
   "id": "de9a76c6-435f-4936-89d7-47d0750ea84d",
   "metadata": {},
   "source": [
    "----"
   ]
  }
 ],
 "metadata": {
  "kernelspec": {
   "display_name": "Python 3 (ipykernel)",
   "language": "python",
   "name": "python3"
  },
  "language_info": {
   "codemirror_mode": {
    "name": "ipython",
    "version": 3
   },
   "file_extension": ".py",
   "mimetype": "text/x-python",
   "name": "python",
   "nbconvert_exporter": "python",
   "pygments_lexer": "ipython3",
   "version": "3.11.3"
  }
 },
 "nbformat": 4,
 "nbformat_minor": 5
}
