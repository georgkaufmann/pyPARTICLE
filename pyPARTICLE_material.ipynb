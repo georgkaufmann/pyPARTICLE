{
 "cells": [
  {
   "cell_type": "markdown",
   "id": "c46eb663",
   "metadata": {},
   "source": [
    "<table>\n",
    "<tr><td><img style=\"height: 150px;\" src=\"images/geo_hydro1.jpg\"></td>\n",
    "<td bgcolor=\"#FFFFFF\">\n",
    "    <p style=\"font-size: xx-large; font-weight: 900; line-height: 100%\">pyPARTICLE</p>\n",
    "    <p style=\"font-size: large; color: rgba(0,0,0,0.5);\"><b style=color:red;>PARTICLE</b></p>\n",
    "    <p style=\"font-size: large; color: rgba(0,0,0,0.5);\">Georg Kaufmann</p>\n",
    "    </td>\n",
    "<td><img style=\"height: 150px;\" src=\"images/pyPARTICLE.png\"></td>\n",
    "</tr>\n",
    "</table>\n",
    "\n",
    "----\n",
    "# `pyPARTICLE`\n",
    "\n",
    "pyPARTICLE, a program package for particle flow and transport."
   ]
  },
  {
   "cell_type": "code",
   "execution_count": 1,
   "id": "bc1b915e",
   "metadata": {
    "tags": []
   },
   "outputs": [],
   "source": [
    "import sys,os"
   ]
  },
  {
   "cell_type": "markdown",
   "id": "9434e6bc",
   "metadata": {},
   "source": [
    "## Materials\n",
    "\n",
    "In this notebook, we define **material properties** for particles.\n",
    "\n",
    "We use a **dictionary** `materials` for the materials, as its is flexible for an\n",
    "expanding list of properties."
   ]
  },
  {
   "cell_type": "code",
   "execution_count": 2,
   "id": "fede4d50-cec6-44a7-9ff2-2728e668d6d3",
   "metadata": {
    "tags": []
   },
   "outputs": [],
   "source": [
    "def loadMaterials(show=False):\n",
    "    \"\"\"\n",
    "    Particle motion\n",
    "    input:\n",
    "      (none)\n",
    "    output:\n",
    "      materials - json dictionary for materials\n",
    "    \"\"\"\n",
    "    materials = [\n",
    "    {\"id\": 0, \"type\": 'settled', \"radius\":    1e-3, \"density\": 2600},\n",
    "    {\"id\": 1, \"type\": 'silt',    \"radius\": 0.04e-3, \"density\": 2200},\n",
    "    {\"id\": 2, \"type\": 'sand',    \"radius\":  0.4e-3, \"density\": 2400},\n",
    "    {\"id\": 3, \"type\": 'gravel',  \"radius\":    1e-3, \"density\": 2600}\n",
    "    ]\n",
    "    if (show):\n",
    "        print('Number of materials: {}'.format(len(materials)))\n",
    "        for material in materials:\n",
    "            print(\"id: {}\\ntype: {}\\nradius: {} m\\ndensity: {} kg/m3\\n\".format(material['id'],\n",
    "                                                                               material['type'],\n",
    "                                                                               material['radius'],\n",
    "                                                                               material['density']))\n",
    "    return materials"
   ]
  },
  {
   "cell_type": "code",
   "execution_count": 3,
   "id": "22e985ea-bc41-4da6-8be2-9e14082d2d7a",
   "metadata": {
    "tags": []
   },
   "outputs": [
    {
     "name": "stdout",
     "output_type": "stream",
     "text": [
      "Number of materials: 4\n",
      "id: 0\n",
      "type: settled\n",
      "radius: 0.001 m\n",
      "density: 2600 kg/m3\n",
      "\n",
      "id: 1\n",
      "type: silt\n",
      "radius: 4e-05 m\n",
      "density: 2200 kg/m3\n",
      "\n",
      "id: 2\n",
      "type: sand\n",
      "radius: 0.0004 m\n",
      "density: 2400 kg/m3\n",
      "\n",
      "id: 3\n",
      "type: gravel\n",
      "radius: 0.001 m\n",
      "density: 2600 kg/m3\n",
      "\n"
     ]
    }
   ],
   "source": [
    "materials = loadMaterials(show=True)"
   ]
  },
  {
   "cell_type": "code",
   "execution_count": 4,
   "id": "f13f2bfa-4786-4ad6-aa6d-12c04c8a387d",
   "metadata": {
    "tags": []
   },
   "outputs": [
    {
     "data": {
      "text/plain": [
       "{'id': 1, 'type': 'silt', 'radius': 4e-05, 'density': 2200}"
      ]
     },
     "execution_count": 4,
     "metadata": {},
     "output_type": "execute_result"
    }
   ],
   "source": [
    "materials[1]"
   ]
  },
  {
   "cell_type": "markdown",
   "id": "5939d301-2ba3-4e4a-85fe-269cb341ad1c",
   "metadata": {},
   "source": [
    "We will use the `materials` dictionary to define material properties for individual particles later ..."
   ]
  },
  {
   "cell_type": "markdown",
   "id": "14633c36",
   "metadata": {},
   "source": [
    "----"
   ]
  }
 ],
 "metadata": {
  "kernelspec": {
   "display_name": "Python 3 (ipykernel)",
   "language": "python",
   "name": "python3"
  },
  "language_info": {
   "codemirror_mode": {
    "name": "ipython",
    "version": 3
   },
   "file_extension": ".py",
   "mimetype": "text/x-python",
   "name": "python",
   "nbconvert_exporter": "python",
   "pygments_lexer": "ipython3",
   "version": "3.11.3"
  }
 },
 "nbformat": 4,
 "nbformat_minor": 5
}
