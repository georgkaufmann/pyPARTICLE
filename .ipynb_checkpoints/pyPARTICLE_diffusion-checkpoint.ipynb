{
 "cells": [
  {
   "cell_type": "markdown",
   "id": "c46eb663",
   "metadata": {},
   "source": [
    "<table>\n",
    "<tr><td><img style=\"height: 150px;\" src=\"images/geo_hydro1.jpg\"></td>\n",
    "<td bgcolor=\"#FFFFFF\">\n",
    "    <p style=\"font-size: xx-large; font-weight: 900; line-height: 100%\">pyPARTICLE</p>\n",
    "    <p style=\"font-size: large; color: rgba(0,0,0,0.5);\"><b style=color:red;>PARTICLE</b></p>\n",
    "    <p style=\"font-size: large; color: rgba(0,0,0,0.5);\">Georg Kaufmann</p>\n",
    "    </td>\n",
    "<td><img style=\"height: 150px;\" src=\"images/pyPARTICLE.png\"></td>\n",
    "</tr>\n",
    "</table>\n",
    "\n",
    "----\n",
    "# `pyPARTICLE`\n",
    "\n",
    "pyPARTICLE, a program package for particle flow and transport."
   ]
  },
  {
   "cell_type": "code",
   "execution_count": 2,
   "id": "bc1b915e",
   "metadata": {
    "tags": []
   },
   "outputs": [],
   "source": [
    "import numpy as np\n",
    "import matplotlib.pyplot as plt\n",
    "from matplotlib import colors\n",
    "import sys,os\n",
    "import libPARTICLE"
   ]
  },
  {
   "cell_type": "code",
   "execution_count": 3,
   "id": "dba52468-eee2-4ce0-bca9-613d13b45eac",
   "metadata": {
    "tags": []
   },
   "outputs": [
    {
     "name": "stdout",
     "output_type": "stream",
     "text": [
      "4 <matplotlib.colors.ListedColormap object at 0x12398b490> [(0.12156862745098039, 0.4666666666666667, 0.7058823529411765, 1.0), (0.8392156862745098, 0.15294117647058825, 0.1568627450980392, 1.0), (0.9686274509803922, 0.7137254901960784, 0.8235294117647058, 1.0), (0.6196078431372549, 0.8549019607843137, 0.8980392156862745, 1.0)]\n"
     ]
    },
    {
     "data": {
      "image/png": "[encoded data removed]",
      "text/plain": [
       "<Figure size 1200x100 with 1 Axes>"
      ]
     },
     "metadata": {},
     "output_type": "display_data"
    }
   ],
   "source": [
    "n_colors = 4\n",
    "cmap = plt.get_cmap('tab20', n_colors) # tab10,tab20\n",
    "print(cmap.N,cmap,[cmap(i) for i in range(cmap.N)])\n",
    "\n",
    "fig,ax = plt.subplots(1,1,figsize=(12,1))\n",
    "for n in range(cmap.N):\n",
    "    ax.plot(n,0.5,marker='o',markersize=10,color=cmap.colors[n])\n",
    "    ax.spines[\"top\"].set_visible(False)\n",
    "    ax.spines[\"left\"].set_visible(False)\n",
    "    ax.set_yticks([])\n",
    "    ax.spines[\"right\"].set_visible(False)\n",
    "    #ax.axis('off')"
   ]
  },
  {
   "cell_type": "markdown",
   "id": "fc5f23c1-90bc-46fa-90f2-b8a40fb70c90",
   "metadata": {},
   "source": [
    "----\n",
    "## Run a model\n",
    "In this notebook, we create the first function to run a model for particle flow and transport.\n",
    "We need to accomplish the following tasks:\n",
    "- Hand down **coordinates**, then **state** and **material** markers, along with the `materials` dictionary.\n",
    "- Check for individual settings via `kwargs`.\n",
    "- Start a time loop (in this case starting from `0` to `tmax`, with `dt` as time step)\n",
    "    - In the time loop, we create to temporary arrays `pFloating` and `pSettling`, which hold the index numbers for floating\n",
    "    and settled particles in this time step.\n",
    "    - We also shift the coordinates by\n",
    "        - **Diffusion:** use a diffusivity `xdiff` and `ydiff`, together with random shaking\n",
    "        - **Advection:** Advect partivles with advection velocities `xadv` and `yadv`.\n",
    "    - We check for particles hitting the boundaries (in this case we keep them just inside).\n",
    "    - **Change particle state:** If a floating particle is close to a settled particle, the floating particle will attach to the settled particle.\n",
    "    \n",
    "**Note:**\n",
    "We use the `materials` dictionary for **radius** values of the particles. Thus the `materials` dictionary\n",
    "needs to have (at least) the **default entries** \n",
    "- `0` for settled particles, and \n",
    "- `1` for floating particles!"
   ]
  },
  {
   "cell_type": "code",
   "execution_count": 4,
   "id": "a7df93e2-8dc9-42a6-834d-ab940e1a57ec",
   "metadata": {
    "tags": []
   },
   "outputs": [],
   "source": [
    "def particleRun(pX,pY,pState,pMaterial,materials,tmax=10,dt=1,**kwargs):\n",
    "    \"\"\"\n",
    "    Particle motion\n",
    "    \"\"\"\n",
    "    # default settings\n",
    "    sidex = 1.0; sidey  = 0.5\n",
    "    xdiff = 0.01; ydiff = 0.01\n",
    "    xadv  = 0.0;  yadv  = 0.0\n",
    "    path  = 'div/test1'\n",
    "    name  = 'test1'\n",
    "    # test for user settings\n",
    "    print('User settings: ',kwargs)\n",
    "    for i in kwargs:\n",
    "        if (i=='sidex'): sidex = kwargs[i]\n",
    "        if (i=='sidey'): sidey = kwargs[i]\n",
    "        if (i=='path'): path = kwargs[i]\n",
    "        if (i=='name'): name = kwargs[i]\n",
    "        if (i=='xdiff'): xdiff = kwargs[i]\n",
    "        if (i=='ydiff'): ydiff = kwargs[i]\n",
    "        if (i=='xadv'):  xadv = kwargs[i]\n",
    "        if (i=='yadv'):  yadv = kwargs[i]\n",
    "        if (i=='tmax'): tmax = kwargs[i]\n",
    "        if (i=='dt'): dt = kwargs[i]\n",
    "    # check for directory for plotting\n",
    "    if not os.path.isdir(path):\n",
    "        os.mkdir(path)\n",
    "    # mean radius of all particles\n",
    "    mean_radius = 0.\n",
    "    nmaterials  = len(materials)\n",
    "    for i in range(nmaterials):\n",
    "        mean_radius += materials[i]['radius']\n",
    "    mean_radius = mean_radius / nmaterials\n",
    "    print('mean radius {} m'.format(mean_radius))\n",
    "    # initialize random-number generator\n",
    "    rng = np.random.default_rng(seed=12)\n",
    "    t   = dt\n",
    "    while (t < tmax):\n",
    "        print(t,end=' ')\n",
    "        # mark floating and settled particles in two different arrays\n",
    "        pFloating = np.array([],dtype='int')\n",
    "        pSettling = np.array([],dtype='int')\n",
    "        # loop over particles\n",
    "        for i in range(pX.shape[0]):\n",
    "            if (pState[i] > 0):\n",
    "                # advect particle\n",
    "                pX[i] = pX[i] + xadv*dt\n",
    "                pY[i] = pY[i] + yadv*dt\n",
    "                # diffuse particle\n",
    "                pX[i] = pX[i] + xdiff*rng.uniform(-1,1)\n",
    "                pY[i] = pY[i] + ydiff*rng.uniform(-1,1)\n",
    "                #pX[i] = pX[i] + xdiff*np.random.normal(loc=0,scale=1)\n",
    "                #pY[i] = pY[i] + ydiff*np.random.normal(loc=0,scale=1)\n",
    "            if (pState[i]==1): pFloating = np.append(pFloating,[i])\n",
    "            if (pState[i]==0): pSettling = np.append(pSettling,[i])\n",
    "        # keep fluid particles within domain\n",
    "        pX = np.where(pX < 0, 0, pX)\n",
    "        pX = np.where(pX > sidex, sidex, pX)\n",
    "        pY = np.where(pY < 0, 0, pY)\n",
    "        pY = np.where(pY > sidey, sidey, pY)\n",
    "        # check, if floating particle is close to settled particle, if yes, attach\n",
    "        ##remove = np.array([],dtype=int)\n",
    "        ##add    = np.array([],dtype=int)\n",
    "        for i,ip in enumerate(pFloating):\n",
    "            for j,ic in enumerate(pSettling):\n",
    "                dist = materials[pMaterial[ip]]['radius'] + materials[pMaterial[ic]]['radius']\n",
    "                #dist = 0.01\n",
    "                if (np.sqrt((pX[ip]-pX[ic])**2 + (pY[ip]-pY[ic])**2) < 10*dist):\n",
    "                    ##print(i,ip,j,ic)\n",
    "                    pState[ip] = 0\n",
    "                    ##remove = np.append(remove,i)\n",
    "                    ##add    = np.append(add,ip)\n",
    "        ##remove = np.unique(remove)\n",
    "        ##add    = np.unique(add)\n",
    "        # plot particle locations to file\n",
    "        libPARTICLE.particlePlot(pX,pY,pState,pMaterial,t,sidex=sidex,sidey=sidey,path=path,name=name)\n",
    "        t += dt\n",
    "    return"
   ]
  },
  {
   "cell_type": "markdown",
   "id": "3269ffab-1847-4427-a4f9-7efccb530fe5",
   "metadata": {},
   "source": [
    "----\n",
    "## Example1: Diffusion only\n",
    "In the first example, only diffusion is active."
   ]
  },
  {
   "cell_type": "code",
   "execution_count": 6,
   "id": "14e9c2b2-eeae-4efd-b6a9-a95f79522ec9",
   "metadata": {
    "tags": []
   },
   "outputs": [
    {
     "name": "stdout",
     "output_type": "stream",
     "text": [
      "User settings:  {'sidex': 0.5, 'sidey': 0.2, 'seedx': 0.25, 'seedy': 0.08, 'sigmax': 0.05, 'sigmay': 0.01}\n",
      "User settings:  {'sidex': 0.5, 'sidey': 0.2, 'xdiff': 0.01, 'ydiff': 0.01, 'xadv': 0, 'yadv': 0, 'path': 'div/diff1', 'name': 'diff1'}\n",
      "mean radius 0.0006100000000000001 m\n",
      "1 2 3 4 5 6 7 8 9 10 11 12 13 14 15 16 17 18 19 20 21 22 23 24 25 26 27 28 29 30 31 32 33 34 35 36 37 38 39 "
     ]
    }
   ],
   "source": [
    "Nfloat=1000;Nsettled=100\n",
    "#Nfloat=100;Nsettled=10\n",
    "sidex=0.5;sidey=0.2\n",
    "seedx=0.25;seedy=0.08\n",
    "sigmax=0.05;sigmay=0.01\n",
    "xdiff=0.01;ydiff=0.01\n",
    "xadv=0;yadv=0\n",
    "\n",
    "pX,pY,pState,pMaterial = libPARTICLE.particleInit(Nfloat=Nfloat,Nsettled=Nsettled,sidex=sidex,sidey=sidey,seedx=seedx,seedy=seedy,sigmax=sigmax,sigmay=sigmay)\n",
    "materials = libPARTICLE.particleMaterials(show=False)\n",
    "libPARTICLE.particlePlot(pX,pY,pState,pMaterial,sidex=sidex,sidey=sidey,path='div/diff1',name='diff1')\n",
    "particleRun(pX,pY,pState,pMaterial,materials,tmax=40,sidex=sidex,sidey=sidey,xdiff=xdiff,ydiff=ydiff,xadv=xadv,yadv=yadv,path='div/diff1',name='diff1')"
   ]
  },
  {
   "cell_type": "markdown",
   "id": "e86c1607-0245-45a1-96ce-3fd1f66ddd3f",
   "metadata": {},
   "source": [
    "----\n",
    "## Example2: Diffusion and advection\n",
    "In the second example, both diffusion and advection are active."
   ]
  },
  {
   "cell_type": "code",
   "execution_count": 7,
   "id": "67e950ac-630e-4397-b100-968ee28bef64",
   "metadata": {
    "tags": []
   },
   "outputs": [
    {
     "name": "stdout",
     "output_type": "stream",
     "text": [
      "User settings:  {'sidex': 0.5, 'sidey': 0.2, 'seedx': 0.15, 'seedy': 0.16, 'sigmax': 0.05, 'sigmay': 0.01}\n",
      "User settings:  {'sidex': 0.5, 'sidey': 0.2, 'xdiff': 0, 'ydiff': 0, 'xadv': 0.01, 'yadv': -0.01, 'path': 'div/diff_adv1', 'name': 'diff_adv1'}\n",
      "mean radius 0.0006100000000000001 m\n",
      "1 2 3 4 5 6 7 8 9 10 11 12 13 14 15 16 17 18 19 20 21 22 23 24 25 26 27 28 29 30 31 32 33 34 35 36 37 38 39 "
     ]
    }
   ],
   "source": [
    "Nfloat=1000;Nsettled=100\n",
    "sidex=0.5;sidey=0.2\n",
    "seedx=0.15;seedy=0.16\n",
    "sigmax=0.05;sigmay=0.01\n",
    "xdiff=0;ydiff=0\n",
    "xadv=0.01;yadv=-0.01\n",
    "\n",
    "pX,pY,pState,pMaterial = libPARTICLE.particleInit(Nfloat=Nfloat,Nsettled=Nsettled,sidex=sidex,sidey=sidey,seedx=seedx,seedy=seedy,sigmax=sigmax,sigmay=sigmay)\n",
    "materials = libPARTICLE.particleMaterials(show=False)\n",
    "libPARTICLE.particlePlot(pX,pY,pState,pMaterial,sidex=sidex,sidey=sidey,path='div/diff_adv1',name='diff_adv1')\n",
    "particleRun(pX,pY,pState,pMaterial,materials,tmax=40,sidex=sidex,sidey=sidey,xdiff=xdiff,ydiff=ydiff,xadv=xadv,yadv=yadv,path='div/diff_adv1',name='diff_adv1')"
   ]
  },
  {
   "cell_type": "code",
   "execution_count": null,
   "id": "86b2084d-7c4f-4f90-835e-70eefac5f9a5",
   "metadata": {
    "tags": []
   },
   "outputs": [],
   "source": [
    "matFloating = len(materials)\n",
    "rng    = np.random.default_rng(seed=12)\n",
    "x = [i for i in range(1,len(materials))]\n",
    "print(x)\n",
    "NFloat = 20\n",
    "gerd = rng.choice(x,NFloat)\n",
    "print(gerd,gerd.shape)\n",
    "print(pMaterial.shape)\n"
   ]
  },
  {
   "cell_type": "markdown",
   "id": "14633c36",
   "metadata": {},
   "source": [
    "----"
   ]
  }
 ],
 "metadata": {
  "kernelspec": {
   "display_name": "Python 3 (ipykernel)",
   "language": "python",
   "name": "python3"
  },
  "language_info": {
   "codemirror_mode": {
    "name": "ipython",
    "version": 3
   },
   "file_extension": ".py",
   "mimetype": "text/x-python",
   "name": "python",
   "nbconvert_exporter": "python",
   "pygments_lexer": "ipython3",
   "version": "3.11.3"
  }
 },
 "nbformat": 4,
 "nbformat_minor": 5
}
