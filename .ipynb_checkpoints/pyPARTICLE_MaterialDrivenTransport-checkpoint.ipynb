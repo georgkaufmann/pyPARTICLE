{
 "cells": [
  {
   "cell_type": "markdown",
   "id": "c46eb663",
   "metadata": {},
   "source": [
    "<table>\n",
    "<tr><td><img style=\"height: 150px;\" src=\"images/geo_hydro1.jpg\"></td>\n",
    "<td bgcolor=\"#FFFFFF\">\n",
    "    <p style=\"font-size: xx-large; font-weight: 900; line-height: 100%\">pyPARTICLE</p>\n",
    "    <p style=\"font-size: large; color: rgba(0,0,0,0.5);\"><b style=color:red;>PARTICLE</b></p>\n",
    "    <p style=\"font-size: large; color: rgba(0,0,0,0.5);\">Georg Kaufmann</p>\n",
    "    </td>\n",
    "<td><img style=\"height: 150px;\" src=\"images/pyPARTICLE.png\"></td>\n",
    "</tr>\n",
    "</table>\n",
    "\n",
    "----\n",
    "# `pyPARTICLE`\n",
    "\n",
    "pyPARTICLE, a program package for particle flow and transport."
   ]
  },
  {
   "cell_type": "code",
   "execution_count": 1,
   "id": "bc1b915e",
   "metadata": {
    "tags": []
   },
   "outputs": [],
   "source": [
    "import numpy as np\n",
    "import matplotlib.pyplot as plt\n",
    "import libPARTICLE"
   ]
  },
  {
   "cell_type": "markdown",
   "id": "fc5f23c1-90bc-46fa-90f2-b8a40fb70c90",
   "metadata": {},
   "source": [
    "----\n",
    "## Run a model\n",
    "In this notebook, we create the first function to run a model for particle flow and transport.\n",
    "We need to accomplish the following tasks:\n",
    "- Hand down **coordinates**, then **state** and **material** markers, along with the `materials` dictionary.\n",
    "- Check for individual settings via `kwargs`.\n",
    "- Start a time loop (in this case starting from `0` to `tmax`, with `dt` as time step)\n",
    "    - In the time loop, we create to temporary arrays `pFloating` and `pSettling`, which hold the index numbers for floating\n",
    "    and settled particles in this time step.\n",
    "    - We also shift the coordinates by\n",
    "        - **Diffusion:** use a diffusivity `xdiff` and `ydiff`, together with random shaking\n",
    "        - **Advection:** Advect partivles with advection velocities `xadv` and `yadv`.\n",
    "    - We check for particles hitting the boundaries (in this case we keep them just inside).\n",
    "    - **Change particle state:** If a floating particle is close to a settled particle, the floating particle will attach to the settled particle.\n",
    "    \n",
    "**Note:**\n",
    "We use the `materials` dictionary for **radius** values of the particles. Thus the `materials` dictionary\n",
    "needs to have (at least) the **default entries** \n",
    "- `0` for settled particles, and \n",
    "- `1` for floating particles!"
   ]
  },
  {
   "cell_type": "markdown",
   "id": "e86c1607-0245-45a1-96ce-3fd1f66ddd3f",
   "metadata": {},
   "source": [
    "----\n",
    "## Example1: Advection\n",
    "In the first example, advection is active."
   ]
  },
  {
   "cell_type": "markdown",
   "id": "9e8af893-f105-49c9-a2a2-d38dc82fb248",
   "metadata": {},
   "source": [
    "----\n",
    "## Example2: Diffusion and advection\n",
    "In the second example, both diffusion and advection are active."
   ]
  },
  {
   "cell_type": "code",
   "execution_count": 2,
   "id": "630f6b42-af29-4229-9a5f-8c4bb1d33135",
   "metadata": {
    "tags": []
   },
   "outputs": [
    {
     "name": "stdout",
     "output_type": "stream",
     "text": [
      "User settings:  {'sidex': 0.5, 'sidey': 0.2, 'seedx': 0.15, 'seedy': 0.12, 'sigmax': 0.05, 'sigmay': 0.02}\n",
      "User settings:  {'sidex': 0.5, 'sidey': 0.2, 'xdiff': 0.005, 'ydiff': 0.01, 'xadv': 0.2, 'yadv': True, 'path': 'div/multi1', 'name': 'multi1'}\n",
      "mean radius 0.000625 m\n",
      "1 2 3 4 5 6 7 8 9 10 11 12 13 14 15 16 17 18 19 20 21 22 23 24 25 26 27 28 29 30 31 32 33 34 35 36 37 38 39 40 41 42 43 44 45 46 47 48 49 50 51 52 53 54 55 56 57 58 59 60 61 62 63 64 65 66 67 68 69 70 71 72 73 74 75 76 77 78 79 80 81 82 83 84 85 86 87 88 89 90 91 92 93 94 95 96 97 98 99 100 101 102 103 104 105 106 107 108 109 110 111 112 113 114 115 116 117 118 119 120 121 122 123 124 125 126 127 128 129 130 131 132 133 134 135 136 137 138 139 140 141 142 143 144 145 146 147 148 149 "
     ]
    }
   ],
   "source": [
    "Nfloat=1000;Nsettled=100\n",
    "sidex=0.5;sidey=0.2\n",
    "seedx=0.15;seedy=0.12\n",
    "sigmax=0.05;sigmay=0.02\n",
    "xdiff=0.005;ydiff=0.01\n",
    "xadv=0.20;yadv=True\n",
    "path='div/multi1';name='multi1'\n",
    "\n",
    "pX,pY,pState,pMaterial = libPARTICLE.particleInit(Nfloat=Nfloat,Nsettled=Nsettled,sidex=sidex,sidey=sidey,seedx=seedx,seedy=seedy,sigmax=sigmax,sigmay=sigmay)\n",
    "materials = libPARTICLE.particleMaterials(show=False)\n",
    "\n",
    "rng    = np.random.default_rng(seed=12)\n",
    "x = [i for i in range(1,len(materials))]\n",
    "pMaterial[0:Nfloat] = rng.choice(x,Nfloat)\n",
    "#pMaterial[0:Nfloat] = rng.choice(x,Nfloat,p=(0.3,0.5,0.2))\n",
    "\n",
    "libPARTICLE.particlePlot(pX,pY,pState,pMaterial,sidex=sidex,sidey=sidey,path=path,name=name)\n",
    "libPARTICLE.particleRun(pX,pY,pState,pMaterial,materials,tmax=1.5,dt=0.01,sidex=sidex,sidey=sidey,xdiff=xdiff,ydiff=ydiff,xadv=xadv,yadv=yadv,path=path,name=name)"
   ]
  },
  {
   "cell_type": "markdown",
   "id": "14633c36",
   "metadata": {},
   "source": [
    "----"
   ]
  }
 ],
 "metadata": {
  "kernelspec": {
   "display_name": "Python 3 (ipykernel)",
   "language": "python",
   "name": "python3"
  },
  "language_info": {
   "codemirror_mode": {
    "name": "ipython",
    "version": 3
   },
   "file_extension": ".py",
   "mimetype": "text/x-python",
   "name": "python",
   "nbconvert_exporter": "python",
   "pygments_lexer": "ipython3",
   "version": "3.11.3"
  }
 },
 "nbformat": 4,
 "nbformat_minor": 5
}
