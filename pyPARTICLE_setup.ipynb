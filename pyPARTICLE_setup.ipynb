{
 "cells": [
  {
   "cell_type": "markdown",
   "id": "c46eb663",
   "metadata": {},
   "source": [
    "<table>\n",
    "<tr><td><img style=\"height: 150px;\" src=\"images/geo_hydro1.jpg\"></td>\n",
    "<td bgcolor=\"#FFFFFF\">\n",
    "    <p style=\"font-size: xx-large; font-weight: 900; line-height: 100%\">pyPARTICLE</p>\n",
    "    <p style=\"font-size: large; color: rgba(0,0,0,0.5);\"><b style=color:red;>PARTICLE</b></p>\n",
    "    <p style=\"font-size: large; color: rgba(0,0,0,0.5);\">Georg Kaufmann</p>\n",
    "    </td>\n",
    "<td><img style=\"height: 150px;\" src=\"images/pyPARTICLE.png\"></td>\n",
    "</tr>\n",
    "</table>\n",
    "\n",
    "----\n",
    "# `pyPARTICLE`\n",
    "\n",
    "pyPARTICLE, a program package for particle flow and transport."
   ]
  },
  {
   "cell_type": "code",
   "execution_count": 10,
   "id": "bc1b915e",
   "metadata": {
    "tags": []
   },
   "outputs": [],
   "source": [
    "import numpy as np\n",
    "import matplotlib.pyplot as plt\n",
    "import os"
   ]
  },
  {
   "cell_type": "markdown",
   "id": "9434e6bc",
   "metadata": {},
   "source": [
    "## Setup of particles\n",
    "\n",
    "In this notebook, we will use `N` particles simultaneously, which are subject to\n",
    "- diffusion (Brownian motion, simulated by random fluctiations)\n",
    "- advection (as Couette flow)\n",
    "- gravity (as Stokes flow)\n",
    "- (reaction)\n",
    "\n",
    "We will first set up a **model domain**:\n",
    "- insert `Nfloat` floating particles with random locations, \n",
    "- attach `Nsettled` settled particles along the bottom,\n",
    "- define the coordinate arrays `pX` and `pY`,\n",
    "- define the particle state as array `pState` (0-settled,1-floating),\n",
    "- define the particle material as array `pMaterial` (0-settled material, >0-floating material).\n",
    "\n",
    "<img src='images/setup.jpg' style=height:80mm;>"
   ]
  },
  {
   "cell_type": "code",
   "execution_count": 11,
   "id": "a3988c10-25a4-4861-839b-4124f03d9e4f",
   "metadata": {
    "tags": []
   },
   "outputs": [],
   "source": [
    "def particleInit(Nfloat=50,Nsettled=10,**kwargs):\n",
    "    \"\"\"\n",
    "    Particle motion\n",
    "    input:\n",
    "      Nfloat,Nsettled    - number of floating/settled particles\n",
    "    **kwargs:\n",
    "      sidex,sidey        - x- and y-dimension of box\n",
    "      seedx,seedy        - center of floating particle cloud\n",
    "      sigmax,sigmay      - standard deviation for random location\n",
    "    output:\n",
    "      pX,pY              - x- and y-coordinates of particles\n",
    "      pState             - state of particles (0-settled,>0-floating)\n",
    "      pMaterial          - material of particle\n",
    "    \"\"\"\n",
    "    # default settings\n",
    "    sidex  = 1.0; sidey  = 0.5\n",
    "    seedx  = 0.5; seedy  = 0.4\n",
    "    sigmax = 0.05; sigmay = 0.05\n",
    "    # test for user settings\n",
    "    print('User settings: ',kwargs)\n",
    "    for i in kwargs:\n",
    "        if (i=='sidex'): sidex = kwargs[i]\n",
    "        if (i=='sidey'): sidey = kwargs[i]\n",
    "        if (i=='seedx'): seedx = kwargs[i]\n",
    "        if (i=='seedy'): seedy = kwargs[i]\n",
    "        if (i=='sigmax'): sigmax = kwargs[i]\n",
    "        if (i=='sigmay'): sigmay = kwargs[i]\n",
    "    # total number of particles\n",
    "    N = Nfloat + Nsettled\n",
    "    # random location for floating particles\n",
    "    rng    = np.random.default_rng(seed=12)\n",
    "    pX     = rng.uniform(seedx-sigmax,seedx+sigmax,Nfloat)\n",
    "    pY     = rng.uniform(seedy-sigmay,seedy+sigmay,Nfloat)\n",
    "    pState    = np.ones(Nfloat,dtype='int')\n",
    "    pMaterial = np.ones(Nfloat,dtype='int')\n",
    "    # set coordinates of settled particles\n",
    "    pX = np.append(pX,np.linspace(0,sidex,Nsettled),axis=0)\n",
    "    pY = np.append(pY,np.zeros(Nsettled),axis=0)\n",
    "    pState    = np.append(pState,np.zeros(Nsettled),axis=0)\n",
    "    pMaterial = np.append(pMaterial,np.zeros(Nsettled),axis=0)\n",
    "    return pX,pY,pState,pMaterial"
   ]
  },
  {
   "cell_type": "code",
   "execution_count": 12,
   "id": "be493356-67cd-4b3b-89cd-ea89a832b386",
   "metadata": {
    "tags": []
   },
   "outputs": [
    {
     "name": "stdout",
     "output_type": "stream",
     "text": [
      "User settings:  {}\n"
     ]
    }
   ],
   "source": [
    "pX,pY,pState,pMaterial = particleInit()"
   ]
  },
  {
   "cell_type": "markdown",
   "id": "52a72249",
   "metadata": {},
   "source": [
    "----\n",
    "## Plot\n",
    "\n",
    "Next, we create a plotting function for the initial setup:"
   ]
  },
  {
   "cell_type": "code",
   "execution_count": 13,
   "id": "8192e11f",
   "metadata": {
    "tags": []
   },
   "outputs": [],
   "source": [
    "def particlePlot(pX,pY,pState,pMaterial,show=False,time=0,isaved=0,**kwargs):\n",
    "    \"\"\"\n",
    "    Particle motion\n",
    "    input:\n",
    "      pX,pY              - x- and y-coordinates of particles\n",
    "      pState             - state of particles (0-settled,>0-floating)\n",
    "      pMaterial          - material of particle\n",
    "    **kwargs:\n",
    "      sidex,sidey        - x- and y-dimension of box\n",
    "      path               - path for figure and data files\n",
    "      name               - name of model\n",
    "    output:\n",
    "      (to figure)\n",
    "    \"\"\"\n",
    "    # default settings\n",
    "    sidex  = 1.0; sidey  = 0.5\n",
    "    path  = 'div/test1'\n",
    "    name  = 'test1'\n",
    "    # test for user settings\n",
    "    for i in kwargs:\n",
    "        if (i=='sidex'): sidex = kwargs[i]\n",
    "        if (i=='sidey'): sidey = kwargs[i]\n",
    "        if (i=='path'):  path = kwargs[i]\n",
    "        if (i=='name'):  name = kwargs[i]\n",
    "    # check for directory for plotting\n",
    "    if not os.path.isdir(path):\n",
    "        os.mkdir(path)\n",
    "    # plot\n",
    "    offsetx = 0.1*sidex; offsety = 0.1*sidey\n",
    "    filename = name+f\"-{isaved:04}.png\"\n",
    "    fig,ax = plt.subplots(1,1,figsize=(6,6))\n",
    "    ax.set_title('time: '+str(round(time,2)))\n",
    "    ax.set_xlim([0-offsetx,sidex+offsetx])\n",
    "    ax.set_ylim([0-offsety,sidey+offsety])\n",
    "    ax.set_aspect('equal', 'box')\n",
    "    ax.axes.get_xaxis().set_visible(False)\n",
    "    ax.axes.get_yaxis().set_visible(False)\n",
    "    ax.scatter(pX,pY,lw=0,marker='o',cmap='tab20',s=10,c=pMaterial)\n",
    "    plt.savefig(path+'/'+filename)\n",
    "    if (not show):\n",
    "        plt.close()\n",
    "    return"
   ]
  },
  {
   "cell_type": "markdown",
   "id": "ad40e10f-2396-438f-a008-a669a791334c",
   "metadata": {},
   "source": [
    "Test for standard setup ..."
   ]
  },
  {
   "cell_type": "code",
   "execution_count": 14,
   "id": "85dfaaaf-2ae7-4f49-bbb4-b43663f49a38",
   "metadata": {
    "tags": []
   },
   "outputs": [
    {
     "name": "stdout",
     "output_type": "stream",
     "text": [
      "User settings:  {}\n"
     ]
    },
    {
     "data": {
      "image/png": "[encoded data removed]",
      "text/plain": [
       "<Figure size 600x600 with 1 Axes>"
      ]
     },
     "metadata": {},
     "output_type": "display_data"
    }
   ],
   "source": [
    "pX,pY,pState,pMaterial = particleInit(Nfloat=50,Nsettled=20)\n",
    "particlePlot(pX,pY,pState,pMaterial,show=True)"
   ]
  },
  {
   "cell_type": "markdown",
   "id": "fc5f23c1-90bc-46fa-90f2-b8a40fb70c90",
   "metadata": {},
   "source": [
    "Test for user-defined setup ..."
   ]
  },
  {
   "cell_type": "code",
   "execution_count": 15,
   "id": "d947157d-1f6c-4393-9179-b777a556cf9e",
   "metadata": {
    "tags": []
   },
   "outputs": [
    {
     "name": "stdout",
     "output_type": "stream",
     "text": [
      "User settings:  {'sidex': 0.5, 'sidey': 0.1, 'seedx': 0.15, 'seedy': 0.08, 'sigmax': 0.02, 'sigmay': 0.01}\n"
     ]
    },
    {
     "data": {
      "image/png": "[encoded data removed]",
      "text/plain": [
       "<Figure size 600x600 with 1 Axes>"
      ]
     },
     "metadata": {},
     "output_type": "display_data"
    }
   ],
   "source": [
    "sidex=0.5; sidey=0.1\n",
    "seedx=0.15;seedy=0.08\n",
    "sigmax=0.02;sigmay=0.01\n",
    "\n",
    "pX,pY,pState,pMaterial = particleInit(Nfloat=80,Nsettled=20,sidex=sidex,sidey=sidey,\n",
    "                                   seedx=seedx,seedy=seedy,sigmax=sigmax,sigmay=sigmay)\n",
    "particlePlot(pX,pY,pState,pMaterial,show=True,sidex=sidex,sidey=sidey)"
   ]
  },
  {
   "cell_type": "markdown",
   "id": "14633c36",
   "metadata": {},
   "source": [
    "----"
   ]
  }
 ],
 "metadata": {
  "kernelspec": {
   "display_name": "Python 3 (ipykernel)",
   "language": "python",
   "name": "python3"
  },
  "language_info": {
   "codemirror_mode": {
    "name": "ipython",
    "version": 3
   },
   "file_extension": ".py",
   "mimetype": "text/x-python",
   "name": "python",
   "nbconvert_exporter": "python",
   "pygments_lexer": "ipython3",
   "version": "3.11.3"
  }
 },
 "nbformat": 4,
 "nbformat_minor": 5
}
